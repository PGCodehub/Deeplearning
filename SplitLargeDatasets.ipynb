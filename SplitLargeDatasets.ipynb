{
  "nbformat": 4,
  "nbformat_minor": 0,
  "metadata": {
    "colab": {
      "name": "SplitLargeDatasets.ipynb",
      "version": "0.3.2",
      "provenance": [],
      "collapsed_sections": [],
      "include_colab_link": true
    },
    "kernelspec": {
      "name": "python3",
      "display_name": "Python 3"
    },
    "accelerator": "GPU"
  },
  "cells": [
    {
      "cell_type": "markdown",
      "metadata": {
        "id": "view-in-github",
        "colab_type": "text"
      },
      "source": [
        "<a href=\"https://colab.research.google.com/github/PGCodehub/Deeplearning/blob/master/SplitLargeDatasets.ipynb\" target=\"_parent\"><img src=\"https://colab.research.google.com/assets/colab-badge.svg\" alt=\"Open In Colab\"/></a>"
      ]
    },
    {
      "metadata": {
        "id": "Co_yejG4Fa68",
        "colab_type": "code",
        "colab": {}
      },
      "cell_type": "code",
      "source": [
        ""
      ],
      "execution_count": 0,
      "outputs": []
    },
    {
      "metadata": {
        "id": "97ivNzYP4UDT",
        "colab_type": "code",
        "colab": {}
      },
      "cell_type": "code",
      "source": [
        "#PYDRIVE AND GOOGLE AUTHENTICATION CELL\n",
        "\n",
        "# Install the PyDrive wrapper & import libraries.\n",
        "# This only needs to be done once per notebook.\n",
        "!pip install -U -q PyDrive\n",
        "from pydrive.auth import GoogleAuth\n",
        "from pydrive.drive import GoogleDrive\n",
        "from google.colab import auth\n",
        "from oauth2client.client import GoogleCredentials\n",
        "\n",
        "# Authenticate and create the PyDrive client.\n",
        "# This only needs to be done once per notebook.\n",
        "auth.authenticate_user()\n",
        "gauth = GoogleAuth()\n",
        "gauth.credentials = GoogleCredentials.get_application_default()\n",
        "driveauth = GoogleDrive(gauth)"
      ],
      "execution_count": 0,
      "outputs": []
    },
    {
      "metadata": {
        "id": "WgSKi2RGF2mf",
        "colab_type": "code",
        "outputId": "9e7916f7-6672-4cba-d66d-d643590d2f41",
        "colab": {
          "base_uri": "https://localhost:8080/",
          "height": 122
        }
      },
      "cell_type": "code",
      "source": [
        "\n",
        "from google.colab import drive\n",
        "drive.mount('/content/gdrive')"
      ],
      "execution_count": 0,
      "outputs": [
        {
          "output_type": "stream",
          "text": [
            "Go to this URL in a browser: https://accounts.google.com/o/oauth2/auth?client_id=947318989803-6bn6qk8qdgf4n4g3pfee6491hc0brc4i.apps.googleusercontent.com&redirect_uri=urn%3Aietf%3Awg%3Aoauth%3A2.0%3Aoob&scope=email%20https%3A%2F%2Fwww.googleapis.com%2Fauth%2Fdocs.test%20https%3A%2F%2Fwww.googleapis.com%2Fauth%2Fdrive%20https%3A%2F%2Fwww.googleapis.com%2Fauth%2Fdrive.photos.readonly%20https%3A%2F%2Fwww.googleapis.com%2Fauth%2Fpeopleapi.readonly&response_type=code\n",
            "\n",
            "Enter your authorization code:\n",
            "··········\n",
            "Mounted at /content/gdrive\n"
          ],
          "name": "stdout"
        }
      ]
    },
    {
      "metadata": {
        "id": "KwsSqiIJGP7q",
        "colab_type": "code",
        "outputId": "6125efa6-0cb5-4200-a47d-85c9d5077c1f",
        "colab": {
          "base_uri": "https://localhost:8080/",
          "height": 34
        }
      },
      "cell_type": "code",
      "source": [
        "!ls\n"
      ],
      "execution_count": 0,
      "outputs": [
        {
          "output_type": "stream",
          "text": [
            "adc.json  food101  food-101  gdrive  sample_data\n"
          ],
          "name": "stdout"
        }
      ]
    },
    {
      "metadata": {
        "id": "A2Tr8VWoGTf1",
        "colab_type": "code",
        "outputId": "11dedb93-7536-4f50-de9b-cc805766eb0c",
        "colab": {
          "base_uri": "https://localhost:8080/",
          "height": 510
        }
      },
      "cell_type": "code",
      "source": [
        "%cd /content/gdrive/My Drive\n",
        "!ls\n"
      ],
      "execution_count": 0,
      "outputs": [
        {
          "output_type": "stream",
          "text": [
            "/content/gdrive/My Drive\n",
            " 9780134034287.pdf\n",
            "'Artificial Intelligence_ A Modern Approach (3rd Edition).pdf'\n",
            " checkpointresnetdrive.pth\n",
            "'CHECKPOINTUP (1).pth'\n",
            " CHECKPOINTUP.pth\n",
            " clouderizer\n",
            "'Colab Notebooks'\n",
            " deep-learning-master\n",
            " food-101.tar.gz\n",
            "'FoxFi Key.apk'\n",
            " GSPGC.ipynb\n",
            "'Image Classifier Project.ipynb'\n",
            "'Image Preprocessing.html'\n",
            "'labels (1).txt'\n",
            "'labelstext (1).txt'\n",
            " labelstext.txt\n",
            " labels.txt\n",
            " rockystartgames@gmail.gdoc\n",
            " salt_identification.ipynb\n",
            "'Sample file.txt'\n",
            "'sentiments (1).txt'\n",
            "'sentiments (2).txt'\n",
            "'sentiments (3).txt'\n",
            "'sentiments (4).txt'\n",
            " sentiments.txt\n",
            " TentativeSchedule.gsheet\n",
            " Udacity-DRL.7z\n",
            " UdacityNLP_Gans.7z\n"
          ],
          "name": "stdout"
        }
      ]
    },
    {
      "metadata": {
        "id": "rGcwgdqXGXTB",
        "colab_type": "code",
        "colab": {}
      },
      "cell_type": "code",
      "source": [
        "root_path = '/content/gdrive/My Drive/food101/'  #change dir to your project folder\n"
      ],
      "execution_count": 0,
      "outputs": []
    },
    {
      "metadata": {
        "id": "STw1sGY9IAaa",
        "colab_type": "code",
        "outputId": "0c6a5f6c-166d-4a42-857c-5512d1e444c7",
        "colab": {
          "base_uri": "https://localhost:8080/",
          "height": 272
        }
      },
      "cell_type": "code",
      "source": [
        "!wget -nc http://data.vision.ee.ethz.ch/cvl/food-101.tar.gz "
      ],
      "execution_count": 0,
      "outputs": [
        {
          "output_type": "stream",
          "text": [
            "--2019-02-21 13:11:16--  http://data.vision.ee.ethz.ch/cvl/food-101.tar.gz\n",
            "Resolving data.vision.ee.ethz.ch (data.vision.ee.ethz.ch)... 129.132.52.162\n",
            "Connecting to data.vision.ee.ethz.ch (data.vision.ee.ethz.ch)|129.132.52.162|:80... connected.\n",
            "HTTP request sent, awaiting response... 302 Found\n",
            "Location: https://data.vision.ee.ethz.ch/cvl/food-101.tar.gz [following]\n",
            "--2019-02-21 13:11:16--  https://data.vision.ee.ethz.ch/cvl/food-101.tar.gz\n",
            "Connecting to data.vision.ee.ethz.ch (data.vision.ee.ethz.ch)|129.132.52.162|:443... connected.\n",
            "HTTP request sent, awaiting response... 200 OK\n",
            "Length: 4996278331 (4.7G) [application/x-gzip]\n",
            "Saving to: ‘food-101.tar.gz’\n",
            "\n",
            "food-101.tar.gz     100%[===================>]   4.65G  2.26MB/s    in 31m 36s \n",
            "\n",
            "2019-02-21 13:42:53 (2.51 MB/s) - ‘food-101.tar.gz’ saved [4996278331/4996278331]\n",
            "\n"
          ],
          "name": "stdout"
        }
      ]
    },
    {
      "metadata": {
        "id": "8aqXv1J5JL0i",
        "colab_type": "code",
        "outputId": "e2e9f1ec-9d0e-4f12-8ea5-d45ac2fbe19a",
        "colab": {
          "base_uri": "https://localhost:8080/",
          "height": 487
        }
      },
      "cell_type": "code",
      "source": [
        "!ls\n"
      ],
      "execution_count": 0,
      "outputs": [
        {
          "output_type": "stream",
          "text": [
            " 9780134034287.pdf\n",
            "'Artificial Intelligence_ A Modern Approach (3rd Edition).pdf'\n",
            " checkpointresnetdrive.pth\n",
            "'CHECKPOINTUP (1).pth'\n",
            " CHECKPOINTUP.pth\n",
            " clouderizer\n",
            "'Colab Notebooks'\n",
            " deep-learning-master\n",
            " food-101.tar.gz\n",
            "'FoxFi Key.apk'\n",
            " GSPGC.ipynb\n",
            "'Image Classifier Project.ipynb'\n",
            "'Image Preprocessing.html'\n",
            "'labels (1).txt'\n",
            "'labelstext (1).txt'\n",
            " labelstext.txt\n",
            " labels.txt\n",
            " rockystartgames@gmail.gdoc\n",
            " salt_identification.ipynb\n",
            "'Sample file.txt'\n",
            "'sentiments (1).txt'\n",
            "'sentiments (2).txt'\n",
            "'sentiments (3).txt'\n",
            "'sentiments (4).txt'\n",
            " sentiments.txt\n",
            " TentativeSchedule.gsheet\n",
            " Udacity-DRL.7z\n",
            " UdacityNLP_Gans.7z\n"
          ],
          "name": "stdout"
        }
      ]
    },
    {
      "metadata": {
        "id": "HgaQ62CJKqcV",
        "colab_type": "code",
        "outputId": "d5530255-5e62-45f1-d878-08be7c91245f",
        "colab": {
          "base_uri": "https://localhost:8080/",
          "height": 51
        }
      },
      "cell_type": "code",
      "source": [
        "!mkdir -p /content/food101/\n",
        "\n",
        "%cd /content/\n",
        "\n",
        "!ls"
      ],
      "execution_count": 0,
      "outputs": [
        {
          "output_type": "stream",
          "text": [
            "/content\n",
            "adc.json  food101  gdrive  sample_data\n"
          ],
          "name": "stdout"
        }
      ]
    },
    {
      "metadata": {
        "id": "1VoYzFBrTHJI",
        "colab_type": "code",
        "colab": {}
      },
      "cell_type": "code",
      "source": [
        "!tar -xzf '/content/gdrive/My Drive/food-101.tar.gz'"
      ],
      "execution_count": 0,
      "outputs": []
    },
    {
      "metadata": {
        "id": "17ABmE9_T5xr",
        "colab_type": "code",
        "outputId": "44bdebc0-13b5-46aa-9ccf-e5469353b7a6",
        "colab": {
          "base_uri": "https://localhost:8080/",
          "height": 51
        }
      },
      "cell_type": "code",
      "source": [
        "%cd /content/food-101/\n",
        "\n",
        "!ls"
      ],
      "execution_count": 0,
      "outputs": [
        {
          "output_type": "stream",
          "text": [
            "/content/food-101\n",
            "images\tlicense_agreement.txt  meta  README.txt\n"
          ],
          "name": "stdout"
        }
      ]
    },
    {
      "metadata": {
        "id": "hnGXzhnoT7gV",
        "colab_type": "code",
        "colab": {}
      },
      "cell_type": "code",
      "source": [
        "file = open('/content/food-101/meta/train.txt', 'r')"
      ],
      "execution_count": 0,
      "outputs": []
    },
    {
      "metadata": {
        "id": "1vjPpU8tV-SH",
        "colab_type": "code",
        "colab": {}
      },
      "cell_type": "code",
      "source": [
        "with open('/content/food-101/README.txt', 'r') as f:\n",
        "    read = f.read()\n",
        "    lines = read.split('\\n')"
      ],
      "execution_count": 0,
      "outputs": []
    },
    {
      "metadata": {
        "id": "qTuZUqe6WPyl",
        "colab_type": "code",
        "outputId": "7409f765-f6dc-4eac-d387-f7b0fb584859",
        "colab": {
          "base_uri": "https://localhost:8080/",
          "height": 493
        }
      },
      "cell_type": "code",
      "source": [
        "lines[1:100]"
      ],
      "execution_count": 0,
      "outputs": [
        {
          "output_type": "execute_result",
          "data": {
            "text/plain": [
              "['=======',\n",
              " '',\n",
              " 'Structure:',\n",
              " '----------',\n",
              " 'pec/',\n",
              " '    images/',\n",
              " '        <class_name>/',\n",
              " '            <image_id>.jpg',\n",
              " '    meta/',\n",
              " '        classes.txt',\n",
              " '        labels.txt',\n",
              " '        test.json',\n",
              " '        test.txt',\n",
              " '        train.json',\n",
              " '        train.txt',\n",
              " '',\n",
              " 'All images can be found in the \"images\" folder and are organized per class. All',\n",
              " 'image ids are unique and correspond to the foodspotting.com review ids. Thus',\n",
              " 'the original articles can retrieved trough',\n",
              " '  http://www.foodspotting.com/reviews/<image_id>',\n",
              " 'or through the foodspotting api (http://www.foodspotting.com/api).',\n",
              " '',\n",
              " 'The test/train splitting used in the experiment of our paper, can be found in',\n",
              " 'the \"meta\" directory.',\n",
              " '',\n",
              " 'For any questions contact bossard@vision.ee.ethz.ch',\n",
              " '',\n",
              " '']"
            ]
          },
          "metadata": {
            "tags": []
          },
          "execution_count": 9
        }
      ]
    },
    {
      "metadata": {
        "id": "U_j5AZ3jlGY0",
        "colab_type": "code",
        "colab": {}
      },
      "cell_type": "code",
      "source": [
        "%cd /content/food-101/images/apple_pie\n",
        "\n",
        "\n",
        "!ls"
      ],
      "execution_count": 0,
      "outputs": []
    },
    {
      "metadata": {
        "id": "CKvb9SeClcEJ",
        "colab_type": "code",
        "colab": {}
      },
      "cell_type": "code",
      "source": [
        "#ref codes\n",
        "\n",
        "!mkdir -p /content/food101/\n",
        "\n",
        "\n",
        "with open('/content/food-101/train.txt', 'r') as f:\n",
        "    read = f.read()\n",
        "    lines = read.split('\\n')\n",
        "    \n",
        "foldername = tr[0].split('/')[0]\n",
        "  \n",
        "  !mkdir -p /content/food101/train/foldername"
      ],
      "execution_count": 0,
      "outputs": []
    },
    {
      "metadata": {
        "id": "hOhUVCqluyWN",
        "colab_type": "code",
        "outputId": "62699dcc-5c7a-4b32-cbfa-f6ace23c0464",
        "colab": {
          "base_uri": "https://localhost:8080/",
          "height": 51
        }
      },
      "cell_type": "code",
      "source": [
        "%cd /content\n",
        "!ls"
      ],
      "execution_count": 0,
      "outputs": [
        {
          "output_type": "stream",
          "text": [
            "/content\n",
            "adc.json  food101  food-101  gdrive  sample_data\n"
          ],
          "name": "stdout"
        }
      ]
    },
    {
      "metadata": {
        "id": "68ZuvnK4zFjE",
        "colab_type": "code",
        "outputId": "8a3a4eca-b8eb-4583-c148-8f215f69323e",
        "colab": {
          "base_uri": "https://localhost:8080/",
          "height": 51
        }
      },
      "cell_type": "code",
      "source": [
        "#!rm -r food101\n",
        "\n",
        "%cd /content\n",
        "!ls"
      ],
      "execution_count": 0,
      "outputs": [
        {
          "output_type": "stream",
          "text": [
            "/content\n",
            "adc.json  apple_pie  baby_back_ribs  food-101  gdrive  sample_data  %take\n"
          ],
          "name": "stdout"
        }
      ]
    },
    {
      "metadata": {
        "id": "WQv7cniizEVa",
        "colab_type": "code",
        "outputId": "507e394c-f6df-45ca-c047-e78b4d17e0df",
        "colab": {
          "base_uri": "https://localhost:8080/",
          "height": 34
        }
      },
      "cell_type": "code",
      "source": [
        "!mkdir -p /content/food101/\n",
        "\n",
        "!ls"
      ],
      "execution_count": 0,
      "outputs": [
        {
          "output_type": "stream",
          "text": [
            "adc.json  food101  food-101  gdrive  sample_data\n"
          ],
          "name": "stdout"
        }
      ]
    },
    {
      "metadata": {
        "id": "3SPM-6aaolCk",
        "colab_type": "code",
        "outputId": "4a7c2cf9-717c-4a11-d723-c4345145271b",
        "colab": {
          "base_uri": "https://localhost:8080/",
          "height": 51
        }
      },
      "cell_type": "code",
      "source": [
        "!mkdir -p /content/food101/train\n",
        "!mkdir -p /content/food101/valid\n",
        "!mkdir -p /content/food101/test\n",
        "\n",
        "\n",
        "%cd /content/food101/\n",
        "\n",
        "!ls"
      ],
      "execution_count": 0,
      "outputs": [
        {
          "output_type": "stream",
          "text": [
            "/content/food101\n",
            "test  train  valid\n"
          ],
          "name": "stdout"
        }
      ]
    },
    {
      "metadata": {
        "id": "ndF0P3uXl3Ke",
        "colab_type": "code",
        "colab": {}
      },
      "cell_type": "code",
      "source": [
        "with open('/content/food-101/meta/train.txt', 'r') as f:\n",
        "    train = f.read()\n",
        "    trainset = train.split('\\n')\n",
        "    \n",
        "with open('/content/food-101/meta/test.txt', 'r') as f:\n",
        "    test = f.read()\n",
        "    testset = test.split('\\n')"
      ],
      "execution_count": 0,
      "outputs": []
    },
    {
      "metadata": {
        "id": "nHcqR_10JPcJ",
        "colab_type": "code",
        "colab": {}
      },
      "cell_type": "code",
      "source": [
        "trains = []\n"
      ],
      "execution_count": 0,
      "outputs": []
    },
    {
      "metadata": {
        "id": "019Z5dp3Lv_M",
        "colab_type": "code",
        "colab": {}
      },
      "cell_type": "code",
      "source": [
        "a = 0 "
      ],
      "execution_count": 0,
      "outputs": []
    },
    {
      "metadata": {
        "id": "xQ8GxtagGC_E",
        "colab_type": "code",
        "colab": {}
      },
      "cell_type": "code",
      "source": [
        "for x in range(101):\n",
        "  \n",
        "  b = a + 750\n",
        "  \n",
        "  temp = []\n",
        "  \n",
        "  temp = trainset[a : b]\n",
        "  \n",
        "  trains.append(temp)\n",
        "  \n",
        "  a = a + 750"
      ],
      "execution_count": 0,
      "outputs": []
    },
    {
      "metadata": {
        "id": "UXe12WzEq5mE",
        "colab_type": "code",
        "colab": {}
      },
      "cell_type": "code",
      "source": [
        "testset[249:501]"
      ],
      "execution_count": 0,
      "outputs": []
    },
    {
      "metadata": {
        "id": "1ogsIqKar6fE",
        "colab_type": "code",
        "colab": {}
      },
      "cell_type": "code",
      "source": [
        "import numpy as np"
      ],
      "execution_count": 0,
      "outputs": []
    },
    {
      "metadata": {
        "id": "HrQx2o0wHFr3",
        "colab_type": "code",
        "outputId": "fd631a56-b2d0-4a0c-af1c-69baba0e9bf6",
        "colab": {
          "base_uri": "https://localhost:8080/",
          "height": 102
        }
      },
      "cell_type": "code",
      "source": [
        "trainsplit = np.asarray(trains)\n",
        "\n",
        "trainsplit[-3:, -3 :]"
      ],
      "execution_count": 0,
      "outputs": [
        {
          "output_type": "execute_result",
          "data": {
            "text/plain": [
              "array([['tiramisu/975603', 'tiramisu/977927', 'tiramisu/992770'],\n",
              "       ['tuna_tartare/991077', 'tuna_tartare/998474',\n",
              "        'tuna_tartare/99979'],\n",
              "       ['waffles/982668', 'waffles/995085', 'waffles/999047']],\n",
              "      dtype='<U31')"
            ]
          },
          "metadata": {
            "tags": []
          },
          "execution_count": 18
        }
      ]
    },
    {
      "metadata": {
        "id": "ArfOr2jdMFVU",
        "colab_type": "code",
        "outputId": "f18fd65f-f8d8-4001-caaf-7dea73915994",
        "colab": {
          "base_uri": "https://localhost:8080/",
          "height": 34
        }
      },
      "cell_type": "code",
      "source": [
        "split_1 = int(0.8 * trainsplit.shape[1])\n",
        "split_1"
      ],
      "execution_count": 0,
      "outputs": [
        {
          "output_type": "execute_result",
          "data": {
            "text/plain": [
              "600"
            ]
          },
          "metadata": {
            "tags": []
          },
          "execution_count": 19
        }
      ]
    },
    {
      "metadata": {
        "id": "KYBo_Xoro5QX",
        "colab_type": "code",
        "colab": {}
      },
      "cell_type": "code",
      "source": [
        "train = trainsplit[:, :split_1]\n",
        "valid = trainsplit[:, split_1:]\n",
        "test =  testset[:-1]"
      ],
      "execution_count": 0,
      "outputs": []
    },
    {
      "metadata": {
        "id": "mCLps3GmrPDi",
        "colab_type": "code",
        "outputId": "c00daac0-f369-4e91-a127-f7132b5e75a6",
        "colab": {
          "base_uri": "https://localhost:8080/",
          "height": 34
        }
      },
      "cell_type": "code",
      "source": [
        "print(\"the length of tain valid test \" ,train.shape , valid.shape , len(test) )"
      ],
      "execution_count": 0,
      "outputs": [
        {
          "output_type": "stream",
          "text": [
            "the length of tain valid test  (101, 600) (101, 150) 25250\n"
          ],
          "name": "stdout"
        }
      ]
    },
    {
      "metadata": {
        "id": "sXIR93FpsLwW",
        "colab_type": "code",
        "outputId": "c07117d0-e5a6-4dce-f139-31654f196dec",
        "colab": {
          "base_uri": "https://localhost:8080/",
          "height": 34
        }
      },
      "cell_type": "code",
      "source": [
        "(train[0,0])"
      ],
      "execution_count": 0,
      "outputs": [
        {
          "output_type": "execute_result",
          "data": {
            "text/plain": [
              "'apple_pie/1005649'"
            ]
          },
          "metadata": {
            "tags": []
          },
          "execution_count": 22
        }
      ]
    },
    {
      "metadata": {
        "id": "frHiDfrzM8sd",
        "colab_type": "code",
        "colab": {}
      },
      "cell_type": "code",
      "source": [
        "import os\n",
        "\n",
        "from tqdm import tqdm\n"
      ],
      "execution_count": 0,
      "outputs": []
    },
    {
      "metadata": {
        "id": "wtZVHj7bOghy",
        "colab_type": "code",
        "outputId": "dcdfbd85-65f4-4ae4-dcba-9c3f14a972a8",
        "colab": {
          "base_uri": "https://localhost:8080/",
          "height": 34
        }
      },
      "cell_type": "code",
      "source": [
        "#for train set \n",
        "\n",
        "\n",
        "tr = train.reshape(60600,)\n",
        "or_fpath = '/content/food-101/images/'\n",
        "cp_fpath = '/content/food101/train/'\n",
        "\n",
        "\n",
        "for y in tqdm(tr):\n",
        "  \n",
        "  \n",
        " foldername = y.split('/')[0]\n",
        "\n",
        " img = y.split('/')[1] +'.jpg'\n",
        "  \n",
        " ip_path = or_fpath+foldername\n",
        " op_path = cp_fpath+foldername\n",
        "  \n",
        " if not os.path.exists(op_path):\n",
        "   os.mkdir(op_path)\n",
        "    \n",
        " os.rename(os.path.join(ip_path, img), os.path.join(op_path, img))\n"
      ],
      "execution_count": 0,
      "outputs": [
        {
          "output_type": "stream",
          "text": [
            "100%|██████████| 60600/60600 [00:02<00:00, 21832.90it/s]\n"
          ],
          "name": "stderr"
        }
      ]
    },
    {
      "metadata": {
        "id": "wnEHaTFUMwSg",
        "colab_type": "code",
        "outputId": "1cb64bc4-5011-4116-a0cd-1bf3def50f9c",
        "colab": {
          "base_uri": "https://localhost:8080/",
          "height": 34
        }
      },
      "cell_type": "code",
      "source": [
        "#for valid set \n",
        "\n",
        "v = valid.reshape(15150,)\n",
        "\n",
        "or_fpath = '/content/food-101/images/'\n",
        "cp_fpath = '/content/food101/valid/'\n",
        "\n",
        "for y in tqdm(v):\n",
        "  \n",
        " foldername = y.split('/')[0]\n",
        "\n",
        " img = y.split('/')[1] +'.jpg'\n",
        "  \n",
        " ip_path = or_fpath+foldername\n",
        " op_path = cp_fpath+foldername\n",
        "  \n",
        " if not os.path.exists(op_path):\n",
        "   os.mkdir(op_path)\n",
        "    \n",
        " os.rename(os.path.join(ip_path, img), os.path.join(op_path, img))"
      ],
      "execution_count": 0,
      "outputs": [
        {
          "output_type": "stream",
          "text": [
            "100%|██████████| 15150/15150 [00:00<00:00, 23417.00it/s]\n"
          ],
          "name": "stderr"
        }
      ]
    },
    {
      "metadata": {
        "id": "YrTePFr2QWtD",
        "colab_type": "code",
        "colab": {}
      },
      "cell_type": "code",
      "source": [
        ""
      ],
      "execution_count": 0,
      "outputs": []
    },
    {
      "metadata": {
        "id": "h_UIeLCgQJ1X",
        "colab_type": "code",
        "outputId": "46c582ea-d773-4c6f-b2b2-9ca253d9d7b2",
        "colab": {
          "base_uri": "https://localhost:8080/",
          "height": 34
        }
      },
      "cell_type": "code",
      "source": [
        "#for test set \n",
        "\n",
        "te = test\n",
        "\n",
        "or_fpath = '/content/food-101/images/'\n",
        "cp_fpath = '/content/food101/test/'\n",
        "\n",
        "for y in tqdm(te):\n",
        "  \n",
        " foldername = y.split('/')[0]\n",
        "\n",
        " img = y.split('/')[1] +'.jpg'\n",
        "  \n",
        " ip_path = or_fpath+foldername\n",
        " op_path = cp_fpath+foldername\n",
        "  \n",
        " if not os.path.exists(op_path):\n",
        "   os.mkdir(op_path)\n",
        "    \n",
        " os.rename(os.path.join(ip_path, img), os.path.join(op_path, img))"
      ],
      "execution_count": 0,
      "outputs": [
        {
          "output_type": "stream",
          "text": [
            "100%|██████████| 25250/25250 [00:01<00:00, 24133.99it/s]\n"
          ],
          "name": "stderr"
        }
      ]
    },
    {
      "metadata": {
        "id": "T6cW0_SjQoGF",
        "colab_type": "code",
        "colab": {}
      },
      "cell_type": "code",
      "source": [
        ""
      ],
      "execution_count": 0,
      "outputs": []
    },
    {
      "metadata": {
        "id": "DDx464MlQn_h",
        "colab_type": "code",
        "colab": {}
      },
      "cell_type": "code",
      "source": [
        "%cd /content/food101/test/apple_pie\t    \n",
        "\n",
        "\n",
        "!ls"
      ],
      "execution_count": 0,
      "outputs": []
    },
    {
      "metadata": {
        "id": "yTH8P05xRXPS",
        "colab_type": "code",
        "colab": {}
      },
      "cell_type": "code",
      "source": [
        "test[:250]"
      ],
      "execution_count": 0,
      "outputs": []
    },
    {
      "metadata": {
        "id": "hIYTInX8NKgS",
        "colab_type": "code",
        "colab": {}
      },
      "cell_type": "code",
      "source": [
        ""
      ],
      "execution_count": 0,
      "outputs": []
    },
    {
      "metadata": {
        "id": "cVqLUluENKdx",
        "colab_type": "code",
        "colab": {}
      },
      "cell_type": "code",
      "source": [
        ""
      ],
      "execution_count": 0,
      "outputs": []
    },
    {
      "metadata": {
        "id": "jxACDFZCNKaH",
        "colab_type": "code",
        "colab": {}
      },
      "cell_type": "code",
      "source": [
        ""
      ],
      "execution_count": 0,
      "outputs": []
    },
    {
      "metadata": {
        "id": "JSUsB_PPNKOz",
        "colab_type": "code",
        "colab": {}
      },
      "cell_type": "code",
      "source": [
        ""
      ],
      "execution_count": 0,
      "outputs": []
    },
    {
      "metadata": {
        "id": "0APMxJqYAAQn",
        "colab_type": "code",
        "colab": {}
      },
      "cell_type": "code",
      "source": [
        "#a\n"
      ],
      "execution_count": 0,
      "outputs": []
    },
    {
      "metadata": {
        "id": "bwY6PpEYAAVb",
        "colab_type": "code",
        "colab": {}
      },
      "cell_type": "code",
      "source": [
        "#a\n"
      ],
      "execution_count": 0,
      "outputs": []
    },
    {
      "metadata": {
        "id": "bIsS9g3oAAYU",
        "colab_type": "code",
        "colab": {}
      },
      "cell_type": "code",
      "source": [
        "#a\n"
      ],
      "execution_count": 0,
      "outputs": []
    },
    {
      "metadata": {
        "id": "iYE6LUT7AAez",
        "colab_type": "code",
        "colab": {}
      },
      "cell_type": "code",
      "source": [
        "#a\n"
      ],
      "execution_count": 0,
      "outputs": []
    },
    {
      "metadata": {
        "id": "SH9EA1vZAAh2",
        "colab_type": "code",
        "colab": {}
      },
      "cell_type": "code",
      "source": [
        "#a\n"
      ],
      "execution_count": 0,
      "outputs": []
    },
    {
      "metadata": {
        "id": "28tjbCM7AAks",
        "colab_type": "code",
        "colab": {}
      },
      "cell_type": "code",
      "source": [
        "#a\n"
      ],
      "execution_count": 0,
      "outputs": []
    },
    {
      "metadata": {
        "id": "CvRuHONaAAT0",
        "colab_type": "code",
        "colab": {}
      },
      "cell_type": "code",
      "source": [
        "#a\n"
      ],
      "execution_count": 0,
      "outputs": []
    },
    {
      "metadata": {
        "id": "YUrzx2cpAFQ2",
        "colab_type": "code",
        "colab": {}
      },
      "cell_type": "code",
      "source": [
        "#a\n"
      ],
      "execution_count": 0,
      "outputs": []
    },
    {
      "metadata": {
        "id": "owD6ftzQAFVU",
        "colab_type": "code",
        "colab": {}
      },
      "cell_type": "code",
      "source": [
        "#a\n"
      ],
      "execution_count": 0,
      "outputs": []
    },
    {
      "metadata": {
        "id": "0hHN3egSAFY2",
        "colab_type": "code",
        "colab": {}
      },
      "cell_type": "code",
      "source": [
        "#a\n"
      ],
      "execution_count": 0,
      "outputs": []
    },
    {
      "metadata": {
        "id": "TaaX_BItAFTt",
        "colab_type": "code",
        "colab": {}
      },
      "cell_type": "code",
      "source": [
        "#a\n"
      ],
      "execution_count": 0,
      "outputs": []
    },
    {
      "metadata": {
        "id": "Av2BlPoJtAid",
        "colab_type": "code",
        "colab": {}
      },
      "cell_type": "code",
      "source": [
        "with open('/content/food-101/meta/classes.txt', 'r') as f:\n",
        "    classes = f.read()\n",
        "    classesset = classes.split('\\n')"
      ],
      "execution_count": 0,
      "outputs": []
    },
    {
      "metadata": {
        "id": "aVlIFf6ttkqv",
        "colab_type": "code",
        "outputId": "77f627f6-ae62-4b96-b81f-b0f4ad322ed9",
        "colab": {
          "base_uri": "https://localhost:8080/",
          "height": 34
        }
      },
      "cell_type": "code",
      "source": [
        "classesset = classesset[:-1]\n",
        "\n",
        "len(classesset)"
      ],
      "execution_count": 0,
      "outputs": [
        {
          "output_type": "execute_result",
          "data": {
            "text/plain": [
              "101"
            ]
          },
          "metadata": {
            "tags": []
          },
          "execution_count": 28
        }
      ]
    },
    {
      "metadata": {
        "id": "MFKmcyGkTLmY",
        "colab_type": "code",
        "outputId": "48a20e9a-b7af-48a7-bf51-accf33dbab90",
        "colab": {
          "base_uri": "https://localhost:8080/",
          "height": 51
        }
      },
      "cell_type": "code",
      "source": [
        "%cd  /content/\n",
        "\n",
        "!ls"
      ],
      "execution_count": 0,
      "outputs": [
        {
          "output_type": "stream",
          "text": [
            "/content\n",
            "adc.json  food101  food-101  gdrive  sample_data\n"
          ],
          "name": "stdout"
        }
      ]
    },
    {
      "metadata": {
        "id": "ltqJOuAIfgDI",
        "colab_type": "code",
        "colab": {}
      },
      "cell_type": "code",
      "source": [
        "$(date +%M)"
      ],
      "execution_count": 0,
      "outputs": []
    },
    {
      "metadata": {
        "id": "tEVeERjafzty",
        "colab_type": "code",
        "colab": {}
      },
      "cell_type": "code",
      "source": [
        ""
      ],
      "execution_count": 0,
      "outputs": []
    },
    {
      "metadata": {
        "id": "h27E_33vflgW",
        "colab_type": "code",
        "colab": {}
      },
      "cell_type": "code",
      "source": [
        "take = classesset[1]\n",
        "!mkdir -p /content/$take\n",
        "\n"
      ],
      "execution_count": 0,
      "outputs": []
    },
    {
      "metadata": {
        "id": "sNIR5pq4f-2K",
        "colab_type": "code",
        "outputId": "87d520fc-608a-4e66-dfbb-2c488341d3ba",
        "colab": {
          "base_uri": "https://localhost:8080/",
          "height": 51
        }
      },
      "cell_type": "code",
      "source": [
        "%cd /content/\n",
        "!ls"
      ],
      "execution_count": 0,
      "outputs": [
        {
          "output_type": "stream",
          "text": [
            "/content\n",
            "sample_data\n"
          ],
          "name": "stdout"
        }
      ]
    },
    {
      "metadata": {
        "id": "RLC1GZjPuWxz",
        "colab_type": "code",
        "colab": {}
      },
      "cell_type": "code",
      "source": [
        "for eachclass in  classesset:\n",
        "  \n",
        "  \n",
        "  !mkdir -p /content/food101/train/$eachclass\n",
        "  !mkdir -p /content/food101/valid/$eachclass\n",
        "  !mkdir -p /content/food101/test/$eachclass\n",
        "  \n",
        "  print(eachclass)\n",
        "\n",
        "\n",
        "  "
      ],
      "execution_count": 0,
      "outputs": []
    },
    {
      "metadata": {
        "id": "Z4IYoNjnvJgQ",
        "colab_type": "code",
        "outputId": "6889cea1-49a4-498b-8e27-f598fdc7e46b",
        "colab": {
          "base_uri": "https://localhost:8080/",
          "height": 34
        }
      },
      "cell_type": "code",
      "source": [
        "%cd /content/food101/train/\n",
        "\n",
        "!ls"
      ],
      "execution_count": 0,
      "outputs": [
        {
          "output_type": "stream",
          "text": [
            "/content/food101/train\n"
          ],
          "name": "stdout"
        }
      ]
    },
    {
      "metadata": {
        "id": "uOOvQFwIvqMM",
        "colab_type": "code",
        "outputId": "fb3db2f4-cddd-4910-dc12-e251cdf92f49",
        "colab": {
          "base_uri": "https://localhost:8080/",
          "height": 34
        }
      },
      "cell_type": "code",
      "source": [
        "train[0,0] + \".jpg\""
      ],
      "execution_count": 0,
      "outputs": [
        {
          "output_type": "execute_result",
          "data": {
            "text/plain": [
              "'apple_pie/1005649.jpg'"
            ]
          },
          "metadata": {
            "tags": []
          },
          "execution_count": 33
        }
      ]
    },
    {
      "metadata": {
        "id": "tFRwHkTjMNrd",
        "colab_type": "code",
        "colab": {}
      },
      "cell_type": "code",
      "source": [
        ""
      ],
      "execution_count": 0,
      "outputs": []
    },
    {
      "metadata": {
        "id": "oVZW0mqbmOW-",
        "colab_type": "code",
        "outputId": "c89d0d2d-05dc-4239-cec0-742689686b97",
        "colab": {
          "base_uri": "https://localhost:8080/",
          "height": 229
        }
      },
      "cell_type": "code",
      "source": [
        "for x in range(train.shape[0]):\n",
        "  for y in range(train.shape[1]):\n",
        "    \n",
        "    if x == 0 and y ==0:\n",
        "      \n",
        "      print(train[x,y].split('/')[0])\n",
        "    \n",
        "    \n",
        "\n",
        " "
      ],
      "execution_count": 0,
      "outputs": [
        {
          "output_type": "error",
          "ename": "AttributeError",
          "evalue": "ignored",
          "traceback": [
            "\u001b[0;31m---------------------------------------------------------------------------\u001b[0m",
            "\u001b[0;31mAttributeError\u001b[0m                            Traceback (most recent call last)",
            "\u001b[0;32m<ipython-input-28-e93ceb72fdb8>\u001b[0m in \u001b[0;36m<module>\u001b[0;34m()\u001b[0m\n\u001b[0;32m----> 1\u001b[0;31m \u001b[0;32mfor\u001b[0m \u001b[0mx\u001b[0m \u001b[0;32min\u001b[0m \u001b[0mrange\u001b[0m\u001b[0;34m(\u001b[0m\u001b[0mtrain\u001b[0m\u001b[0;34m.\u001b[0m\u001b[0mshape\u001b[0m\u001b[0;34m[\u001b[0m\u001b[0;36m0\u001b[0m\u001b[0;34m]\u001b[0m\u001b[0;34m)\u001b[0m\u001b[0;34m:\u001b[0m\u001b[0;34m\u001b[0m\u001b[0;34m\u001b[0m\u001b[0m\n\u001b[0m\u001b[1;32m      2\u001b[0m   \u001b[0;32mfor\u001b[0m \u001b[0my\u001b[0m \u001b[0;32min\u001b[0m \u001b[0mrange\u001b[0m\u001b[0;34m(\u001b[0m\u001b[0mtrain\u001b[0m\u001b[0;34m.\u001b[0m\u001b[0mshape\u001b[0m\u001b[0;34m[\u001b[0m\u001b[0;36m1\u001b[0m\u001b[0;34m]\u001b[0m\u001b[0;34m)\u001b[0m\u001b[0;34m:\u001b[0m\u001b[0;34m\u001b[0m\u001b[0;34m\u001b[0m\u001b[0m\n\u001b[1;32m      3\u001b[0m \u001b[0;34m\u001b[0m\u001b[0m\n\u001b[1;32m      4\u001b[0m     \u001b[0;32mif\u001b[0m \u001b[0mx\u001b[0m \u001b[0;34m==\u001b[0m \u001b[0;36m0\u001b[0m \u001b[0;32mand\u001b[0m \u001b[0my\u001b[0m \u001b[0;34m==\u001b[0m\u001b[0;36m0\u001b[0m\u001b[0;34m:\u001b[0m\u001b[0;34m\u001b[0m\u001b[0;34m\u001b[0m\u001b[0m\n\u001b[1;32m      5\u001b[0m \u001b[0;34m\u001b[0m\u001b[0m\n",
            "\u001b[0;31mAttributeError\u001b[0m: 'str' object has no attribute 'shape'"
          ]
        }
      ]
    },
    {
      "metadata": {
        "id": "KRLzhiV3mjVl",
        "colab_type": "code",
        "colab": {}
      },
      "cell_type": "code",
      "source": [
        "i = 0"
      ],
      "execution_count": 0,
      "outputs": []
    },
    {
      "metadata": {
        "id": "vzPSqOp9sql-",
        "colab_type": "code",
        "outputId": "d5cb2c3c-0cee-4a17-e27b-3605750fa337",
        "colab": {
          "base_uri": "https://localhost:8080/",
          "height": 46
        }
      },
      "cell_type": "code",
      "source": [
        "for x in range(train.shape[0]):\n",
        "  \n",
        "  \n",
        "  for y in range(train.shape[1]):\n",
        "    \n",
        "    print(i, end=\"\\r\")\n",
        "    \n",
        "    \n",
        "    temp = train[x,y] + \".jpg\"\n",
        "    \n",
        "    foldername = temp.split('/')[0]\n",
        "    \n",
        "    !mv /content/food-101/images/$temp /content/food101/train/$foldername/\n",
        "  \n",
        "    i = i+1\n",
        "    \n",
        "    \n"
      ],
      "execution_count": 0,
      "outputs": [
        {
          "output_type": "stream",
          "text": [
            ""
          ],
          "name": "stdout"
        }
      ]
    },
    {
      "metadata": {
        "id": "hlWGoCDTHZmY",
        "colab_type": "code",
        "colab": {}
      },
      "cell_type": "code",
      "source": [
        "#a\n"
      ],
      "execution_count": 0,
      "outputs": []
    },
    {
      "metadata": {
        "id": "3BKgJSjtEb3U",
        "colab_type": "code",
        "colab": {}
      },
      "cell_type": "code",
      "source": [
        "# a\n"
      ],
      "execution_count": 0,
      "outputs": []
    },
    {
      "metadata": {
        "id": "g787KrurHZRC",
        "colab_type": "code",
        "outputId": "435f583b-990b-4bf2-bf50-2bf79d3116d3",
        "colab": {
          "base_uri": "https://localhost:8080/",
          "height": 67
        }
      },
      "cell_type": "code",
      "source": [
        "#a\n",
        "import os\n",
        "print(ip_path)\n",
        "print(os.path.join(ip_path, img))\n",
        "os.path.exists(op_path)"
      ],
      "execution_count": 0,
      "outputs": [
        {
          "output_type": "stream",
          "text": [
            "/content/food-101/images/waffles\n",
            "/content/food-101/images/waffles/999047.jpg\n"
          ],
          "name": "stdout"
        },
        {
          "output_type": "execute_result",
          "data": {
            "text/plain": [
              "False"
            ]
          },
          "metadata": {
            "tags": []
          },
          "execution_count": 74
        }
      ]
    },
    {
      "metadata": {
        "id": "VzXTnB7ngReb",
        "colab_type": "code",
        "outputId": "b7b1cd07-3a62-4d8e-b440-c3810044b6b5",
        "colab": {
          "base_uri": "https://localhost:8080/",
          "height": 34
        }
      },
      "cell_type": "code",
      "source": [
        ""
      ],
      "execution_count": 0,
      "outputs": [
        {
          "output_type": "stream",
          "text": [
            "100%|██████████| 15150/15150 [00:00<00:00, 22032.76it/s]\n"
          ],
          "name": "stderr"
        }
      ]
    },
    {
      "metadata": {
        "id": "30zxwHgUAZJM",
        "colab_type": "code",
        "outputId": "abf2c407-b908-40f0-e2a0-38bddf4ad4ee",
        "colab": {
          "base_uri": "https://localhost:8080/",
          "height": 34
        }
      },
      "cell_type": "code",
      "source": [
        "# a \n",
        "from tqdm import tqdm\n",
        "for y in tqdm(range(valid.shape[1])):\n",
        "    \n",
        "    print(j, end=\"\\r\")\n",
        "    \n",
        "    \n",
        "    temp = valid[x,y] + \".jpg\"\n",
        "    \n",
        "    foldername = temp.split('/')[0]\n",
        "    \n",
        "    # !mv /content/food-101/images/$temp /content/food101/valid/$foldername/\n",
        "    \n",
        "    j = j+ 1\n",
        "  "
      ],
      "execution_count": 0,
      "outputs": [
        {
          "output_type": "stream",
          "text": [
            "100%|██████████| 150/150 [00:00<00:00, 8302.48it/s]"
          ],
          "name": "stderr"
        },
        {
          "output_type": "stream",
          "text": [
            "15150\r15151\r15152\r15153\r15154\r15155\r15156\r15157\r15158\r15159\r15160\r15161\r15162\r15163\r15164\r15165\r15166\r15167\r15168\r15169\r15170\r15171\r15172\r15173\r15174\r15175\r15176\r15177\r15178\r15179\r15180\r15181\r15182\r15183\r15184\r15185\r15186\r15187\r15188\r15189\r15190\r15191\r15192\r15193\r15194\r15195\r15196\r15197\r15198\r15199\r15200\r15201\r15202\r15203\r15204\r15205\r15206\r15207\r15208\r15209\r15210\r15211\r15212\r15213\r15214\r15215\r15216\r15217\r15218\r15219\r15220\r15221\r15222\r15223\r15224\r15225\r15226\r15227\r15228\r15229\r15230\r15231\r15232\r15233\r15234\r15235\r15236\r15237\r15238\r15239\r15240\r15241\r15242\r15243\r15244\r15245\r15246\r15247\r15248\r15249\r15250\r15251\r15252\r15253\r15254\r15255\r15256\r15257\r15258\r15259\r15260\r15261\r15262\r15263\r15264\r15265\r15266\r15267\r15268\r15269\r15270\r15271\r15272\r15273\r15274\r15275\r15276\r15277\r15278\r15279\r15280\r15281\r15282\r15283\r15284\r15285\r15286\r15287\r15288\r15289\r15290\r15291\r15292\r15293\r15294\r15295\r15296\r15297\r15298\r15299\r"
          ],
          "name": "stdout"
        },
        {
          "output_type": "stream",
          "text": [
            "\n"
          ],
          "name": "stderr"
        }
      ]
    },
    {
      "metadata": {
        "id": "C592lReco6_6",
        "colab_type": "code",
        "outputId": "ec77990c-6486-440c-a074-7f8968c2d45c",
        "colab": {
          "base_uri": "https://localhost:8080/",
          "height": 17
        }
      },
      "cell_type": "code",
      "source": [
        "for x in range(valid.shape[0]):\n",
        "  \n",
        "  \n",
        "  for y in range(valid.shape[1]):\n",
        "    \n",
        "    print(j, end=\"\\r\")\n",
        "    \n",
        "    \n",
        "    temp = valid[x,y] + \".jpg\"\n",
        "    \n",
        "    foldername = temp.split('/')[0]\n",
        "    \n",
        "    # !mv /content/food-101/images/$temp /content/food101/valid/$foldername/\n",
        "    \n",
        "    j = j+ 1\n",
        "  "
      ],
      "execution_count": 0,
      "outputs": [
        {
          "output_type": "stream",
          "text": [
            ""
          ],
          "name": "stdout"
        }
      ]
    },
    {
      "metadata": {
        "id": "AeRejuH5gLNx",
        "colab_type": "code",
        "outputId": "78955421-88a4-4ffb-f551-bcd7c66fc184",
        "colab": {
          "base_uri": "https://localhost:8080/",
          "height": 34
        }
      },
      "cell_type": "code",
      "source": [
        "!pwd\n"
      ],
      "execution_count": 0,
      "outputs": [
        {
          "output_type": "stream",
          "text": [
            "/content/food101\n"
          ],
          "name": "stdout"
        }
      ]
    },
    {
      "metadata": {
        "id": "QIj6llJ58SsF",
        "colab_type": "code",
        "colab": {}
      },
      "cell_type": "code",
      "source": [
        "for te in testset:\n",
        "  \n",
        "  print(k, end=\"\\r\")\n",
        "\n",
        "     \n",
        "  temp = te + \".jpg\"\n",
        "    \n",
        "  foldername = temp.split('/')[0]\n",
        "    \n",
        "  !mv /content/food-101/images/$temp /content/food101/test/$foldername/\n",
        "  \n",
        "  k = k+1"
      ],
      "execution_count": 0,
      "outputs": []
    },
    {
      "metadata": {
        "id": "JSPYl08CR4MH",
        "colab_type": "code",
        "colab": {}
      },
      "cell_type": "code",
      "source": [
        ""
      ],
      "execution_count": 0,
      "outputs": []
    },
    {
      "metadata": {
        "id": "78tpD5hPR4JI",
        "colab_type": "code",
        "colab": {}
      },
      "cell_type": "code",
      "source": [
        ""
      ],
      "execution_count": 0,
      "outputs": []
    },
    {
      "metadata": {
        "id": "ZBX_EsW7R4GV",
        "colab_type": "code",
        "colab": {}
      },
      "cell_type": "code",
      "source": [
        ""
      ],
      "execution_count": 0,
      "outputs": []
    },
    {
      "metadata": {
        "id": "mTy8FMJQR4BT",
        "colab_type": "code",
        "colab": {}
      },
      "cell_type": "code",
      "source": [
        ""
      ],
      "execution_count": 0,
      "outputs": []
    },
    {
      "metadata": {
        "id": "a2huNm2cR39e",
        "colab_type": "code",
        "colab": {}
      },
      "cell_type": "code",
      "source": [
        ""
      ],
      "execution_count": 0,
      "outputs": []
    },
    {
      "metadata": {
        "id": "Qu-CgMazR3uY",
        "colab_type": "code",
        "colab": {}
      },
      "cell_type": "code",
      "source": [
        ""
      ],
      "execution_count": 0,
      "outputs": []
    },
    {
      "metadata": {
        "id": "_QL5x0lk-r3y",
        "colab_type": "code",
        "outputId": "0ef17408-38cf-469f-f054-2d4f869b75ee",
        "colab": {
          "base_uri": "https://localhost:8080/",
          "height": 34
        }
      },
      "cell_type": "code",
      "source": [
        "!tar -czf  food101finaldata.tar.gz  /content/food101"
      ],
      "execution_count": 0,
      "outputs": [
        {
          "output_type": "stream",
          "text": [
            "tar: Removing leading `/' from member names\n"
          ],
          "name": "stdout"
        }
      ]
    },
    {
      "metadata": {
        "id": "a1Ozfv8-XdTa",
        "colab_type": "code",
        "outputId": "87e4f358-1b8d-4399-c968-583ee848a923",
        "colab": {
          "base_uri": "https://localhost:8080/",
          "height": 68
        }
      },
      "cell_type": "code",
      "source": [
        "%cd /content\n",
        "\n",
        "!ls"
      ],
      "execution_count": 63,
      "outputs": [
        {
          "output_type": "stream",
          "text": [
            "/content\n",
            "adc.json  food-101\t   food101finaldata.tar.gz  sample_data\n",
            "food101   food101data.zip  gdrive\n"
          ],
          "name": "stdout"
        }
      ]
    },
    {
      "metadata": {
        "id": "rSDG0Z9v_T7B",
        "colab_type": "code",
        "outputId": "38480157-bdaa-4abb-bb8b-961c133f96c9",
        "colab": {
          "base_uri": "https://localhost:8080/",
          "height": 34
        }
      },
      "cell_type": "code",
      "source": [
        "f = \"food101finaldata.tar.gz\"\n",
        "uploaded = driveauth.CreateFile()\n",
        "uploaded.SetContentFile(f)\n",
        "uploaded.Upload()\n",
        "print('Uploaded file %s with ID %s'%(f, uploaded.get('id')))"
      ],
      "execution_count": 65,
      "outputs": [
        {
          "output_type": "stream",
          "text": [
            "Uploaded file food101finaldata.tar.gz with ID 1lHrCSut5zz0PPfczAKU0_BSnhpddFczR\n"
          ],
          "name": "stdout"
        }
      ]
    }
  ]
}